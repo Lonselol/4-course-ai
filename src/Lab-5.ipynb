{
 "cells": [
  {
   "cell_type": "code",
   "execution_count": 2,
   "metadata": {},
   "outputs": [],
   "source": [
    "import numpy as np\n",
    "import pandas as pd\n",
    "from sklearn.model_selection import GridSearchCV, RandomizedSearchCV, train_test_split\n",
    "from sklearn.ensemble import RandomForestClassifier\n",
    "from sklearn.metrics import accuracy_score\n",
    "from skopt import BayesSearchCV\n",
    "from skopt.space import Integer, Real\n",
    "from scipy.stats import randint, uniform\n",
    "from time import time\n"
   ]
  },
  {
   "cell_type": "code",
   "execution_count": null,
   "metadata": {},
   "outputs": [],
   "source": [
    "from sklearn.datasets import make_classification"
   ]
  },
  {
   "cell_type": "code",
   "execution_count": 4,
   "metadata": {},
   "outputs": [],
   "source": [
    "# Генерация данных\n",
    "X, y = make_classification(n_samples=1000, n_features=20, n_informative=15, n_classes=3, random_state=42)\n",
    "X_train, X_test, y_train, y_test = train_test_split(X, y, test_size=0.3, random_state=42)"
   ]
  },
  {
   "cell_type": "code",
   "execution_count": null,
   "metadata": {},
   "outputs": [],
   "source": [
    "# Поиска гиперпараметров\n",
    "def show_cv_info(cv):\n",
    "    df_results = pd.DataFrame(cv.cv_results_)\n",
    "    print(f\"Лучшие параметры: {cv.best_params_}\")\n",
    "    print(f\"Лучшая точность: {cv.best_score_}\")\n",
    "    return df_results.sort_values(\"rank_test_score\").head(3)"
   ]
  },
  {
   "cell_type": "code",
   "execution_count": 6,
   "metadata": {},
   "outputs": [
    {
     "name": "stdout",
     "output_type": "stream",
     "text": [
      "Grid Search...\n",
      "Fitting 3 folds for each of 27 candidates, totalling 81 fits\n",
      "Лучшие параметры: {'max_depth': None, 'min_samples_split': 5, 'n_estimators': 500}\n",
      "Лучшая точность: 0.7428927772275412\n"
     ]
    }
   ],
   "source": [
    "# Поиск по решетке (Grid Search)\n",
    "grid_params = {\n",
    "    \"n_estimators\": [10, 100, 500],\n",
    "    \"max_depth\": [None, 10, 20],\n",
    "    \"min_samples_split\": [2, 5, 10],\n",
    "}\n",
    "print(\"Grid Search...\")\n",
    "start_time = time()\n",
    "grid_search = GridSearchCV(RandomForestClassifier(random_state=42), grid_params, cv=3, n_jobs=-1, verbose=1)\n",
    "grid_search.fit(X_train, y_train)\n",
    "grid_duration = time() - start_time\n",
    "grid_results = show_cv_info(grid_search)"
   ]
  },
  {
   "cell_type": "code",
   "execution_count": 7,
   "metadata": {},
   "outputs": [
    {
     "name": "stdout",
     "output_type": "stream",
     "text": [
      "\n",
      "Random Search...\n",
      "Fitting 3 folds for each of 50 candidates, totalling 150 fits\n",
      "Лучшие параметры: {'max_depth': 43, 'min_samples_split': 5, 'n_estimators': 358}\n",
      "Лучшая точность: 0.747178508981084\n"
     ]
    }
   ],
   "source": [
    "# Случайный поиск (Random Search)\n",
    "random_params = {\n",
    "    \"n_estimators\": randint(10, 500),\n",
    "    \"max_depth\": randint(5, 50),\n",
    "    \"min_samples_split\": randint(2, 10),\n",
    "}\n",
    "print(\"\\nRandom Search...\")\n",
    "start_time = time()\n",
    "random_search = RandomizedSearchCV(RandomForestClassifier(random_state=42), random_params, cv=3, n_jobs=-1, n_iter=50, verbose=1, random_state=42)\n",
    "random_search.fit(X_train, y_train)\n",
    "random_duration = time() - start_time\n",
    "random_results = show_cv_info(random_search)"
   ]
  },
  {
   "cell_type": "code",
   "execution_count": 8,
   "metadata": {},
   "outputs": [
    {
     "name": "stdout",
     "output_type": "stream",
     "text": [
      "\n",
      "Bayes Search...\n",
      "Fitting 3 folds for each of 1 candidates, totalling 3 fits\n",
      "Fitting 3 folds for each of 1 candidates, totalling 3 fits\n",
      "Fitting 3 folds for each of 1 candidates, totalling 3 fits\n",
      "Fitting 3 folds for each of 1 candidates, totalling 3 fits\n",
      "Fitting 3 folds for each of 1 candidates, totalling 3 fits\n",
      "Fitting 3 folds for each of 1 candidates, totalling 3 fits\n",
      "Fitting 3 folds for each of 1 candidates, totalling 3 fits\n",
      "Fitting 3 folds for each of 1 candidates, totalling 3 fits\n",
      "Fitting 3 folds for each of 1 candidates, totalling 3 fits\n",
      "Fitting 3 folds for each of 1 candidates, totalling 3 fits\n",
      "Fitting 3 folds for each of 1 candidates, totalling 3 fits\n",
      "Fitting 3 folds for each of 1 candidates, totalling 3 fits\n",
      "Fitting 3 folds for each of 1 candidates, totalling 3 fits\n",
      "Fitting 3 folds for each of 1 candidates, totalling 3 fits\n",
      "Fitting 3 folds for each of 1 candidates, totalling 3 fits\n",
      "Fitting 3 folds for each of 1 candidates, totalling 3 fits\n",
      "Fitting 3 folds for each of 1 candidates, totalling 3 fits\n",
      "Fitting 3 folds for each of 1 candidates, totalling 3 fits\n",
      "Fitting 3 folds for each of 1 candidates, totalling 3 fits\n",
      "Fitting 3 folds for each of 1 candidates, totalling 3 fits\n",
      "Fitting 3 folds for each of 1 candidates, totalling 3 fits\n",
      "Fitting 3 folds for each of 1 candidates, totalling 3 fits\n",
      "Fitting 3 folds for each of 1 candidates, totalling 3 fits\n",
      "Fitting 3 folds for each of 1 candidates, totalling 3 fits\n",
      "Fitting 3 folds for each of 1 candidates, totalling 3 fits\n",
      "Fitting 3 folds for each of 1 candidates, totalling 3 fits\n",
      "Fitting 3 folds for each of 1 candidates, totalling 3 fits\n",
      "Fitting 3 folds for each of 1 candidates, totalling 3 fits\n",
      "Fitting 3 folds for each of 1 candidates, totalling 3 fits\n",
      "Fitting 3 folds for each of 1 candidates, totalling 3 fits\n",
      "Лучшие параметры: OrderedDict({'max_depth': 50, 'min_samples_split': 4, 'n_estimators': 401})\n",
      "Лучшая точность: 0.7485968966655663\n"
     ]
    }
   ],
   "source": [
    "# Байесовский поиск (Bayes Search)\n",
    "bayes_params = {\n",
    "    \"n_estimators\": Integer(10, 500),\n",
    "    \"max_depth\": Integer(5, 50),\n",
    "    \"min_samples_split\": Integer(2, 10),\n",
    "}\n",
    "print(\"\\nBayes Search...\")\n",
    "start_time = time()\n",
    "bayes_search = BayesSearchCV(RandomForestClassifier(random_state=42), bayes_params, cv=3, n_jobs=-1, n_iter=30, verbose=1, random_state=42)\n",
    "bayes_search.fit(X_train, y_train)\n",
    "bayes_duration = time() - start_time\n",
    "bayes_results = show_cv_info(bayes_search)"
   ]
  },
  {
   "cell_type": "code",
   "execution_count": 9,
   "metadata": {},
   "outputs": [
    {
     "name": "stdout",
     "output_type": "stream",
     "text": [
      "\n",
      "Результаты на тестовых данных:\n",
      "Grid Search: Точность = 0.7667\n",
      "Random Search: Точность = 0.7700\n",
      "Bayes Search: Точность = 0.7733\n"
     ]
    }
   ],
   "source": [
    "# Оценка результатов\n",
    "print(\"\\nРезультаты на тестовых данных:\")\n",
    "models = {\n",
    "    \"Grid Search\": grid_search,\n",
    "    \"Random Search\": random_search,\n",
    "    \"Bayes Search\": bayes_search,\n",
    "}\n",
    "for name, model in models.items():\n",
    "    y_pred = model.predict(X_test)\n",
    "    acc = accuracy_score(y_test, y_pred)\n",
    "    print(f\"{name}: Точность = {acc:.4f}\")"
   ]
  },
  {
   "cell_type": "code",
   "execution_count": 10,
   "metadata": {},
   "outputs": [
    {
     "name": "stdout",
     "output_type": "stream",
     "text": [
      "\n",
      "Время выполнения:\n",
      "Grid Search: 46.41 секунд\n",
      "Random Search: 67.37 секунд\n",
      "Bayes Search: 130.11 секунд\n"
     ]
    }
   ],
   "source": [
    "# Сравнение времени выполнения\n",
    "print(\"\\nВремя выполнения:\")\n",
    "print(f\"Grid Search: {grid_duration:.2f} секунд\")\n",
    "print(f\"Random Search: {random_duration:.2f} секунд\")\n",
    "print(f\"Bayes Search: {bayes_duration:.2f} секунд\")"
   ]
  }
 ],
 "metadata": {
  "kernelspec": {
   "display_name": "Python 3",
   "language": "python",
   "name": "python3"
  },
  "language_info": {
   "codemirror_mode": {
    "name": "ipython",
    "version": 3
   },
   "file_extension": ".py",
   "mimetype": "text/x-python",
   "name": "python",
   "nbconvert_exporter": "python",
   "pygments_lexer": "ipython3",
   "version": "3.12.6"
  }
 },
 "nbformat": 4,
 "nbformat_minor": 2
}
