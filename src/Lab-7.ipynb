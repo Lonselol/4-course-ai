{
 "cells": [
  {
   "cell_type": "code",
   "execution_count": 1,
   "metadata": {},
   "outputs": [],
   "source": [
    "import os\n",
    "import re\n",
    "import tensorflow as tf\n",
    "from keras import layers\n",
    "from keras.layers import TextVectorization"
   ]
  },
  {
   "cell_type": "code",
   "execution_count": 2,
   "metadata": {},
   "outputs": [
    {
     "name": "stdout",
     "output_type": "stream",
     "text": [
      "Downloading data from https://www.gutenberg.org/files/11/11-0.txt\n",
      "\u001b[1m154573/154573\u001b[0m \u001b[32m━━━━━━━━━━━━━━━━━━━━\u001b[0m\u001b[37m\u001b[0m \u001b[1m1s\u001b[0m 4us/step\n"
     ]
    }
   ],
   "source": [
    "name, url = \"Alice's Adventures in Wonderland\", 'https://www.gutenberg.org/files/11/11-0.txt'\n",
    "filepath = tf.keras.utils.get_file(f'{name}.txt', origin=url)"
   ]
  },
  {
   "cell_type": "code",
   "execution_count": 3,
   "metadata": {},
   "outputs": [
    {
     "name": "stdout",
     "output_type": "stream",
     "text": [
      "Количество слов в тексте: 24674\n",
      "Количество уникальных слов: 2799\n"
     ]
    }
   ],
   "source": [
    "# Чтение текста из файла и очистка\n",
    "with open(filepath, encoding='utf-8') as f:\n",
    "    text = f.read()[10000:]  # Пропуск первых 10,000 символов\n",
    "\n",
    "text = re.sub(r\"[\\\"\\`\\'\\“\\”\\_\\(\\)]\", r\"\", text)  # Удаление нежелательных символов\n",
    "text = re.sub(r\"\\s+\", \" \", text)  # Удаление лишних пробелов\n",
    "\n",
    "# Разделение текста на слова\n",
    "text_list = [word.strip() for word in text.split(' ') if word.strip()]\n",
    "print(f\"Количество слов в тексте: {len(text_list)}\")\n",
    "\n",
    "# Векторизация текста\n",
    "vectorize_layer = TextVectorization(output_mode=\"int\")\n",
    "vectorize_layer.adapt(text)\n",
    "\n",
    "# Получение словаря (уникальных слов)\n",
    "vocab = vectorize_layer.get_vocabulary()\n",
    "print(f\"Количество уникальных слов: {len(vocab)}\")"
   ]
  },
  {
   "cell_type": "code",
   "execution_count": 4,
   "metadata": {},
   "outputs": [],
   "source": [
    "# Константы для подготовки данных\n",
    "BATCH_SIZE = 64  # Увеличение размера батча для ускорения обучения\n",
    "BUFFER_SIZE = 512  # Увеличение буфера для перемешивания\n",
    "MAX_LEN = 100"
   ]
  },
  {
   "cell_type": "code",
   "execution_count": 5,
   "metadata": {},
   "outputs": [],
   "source": [
    "# Функция предобработки текстовых данных\n",
    "def preprocess(text_l, length=MAX_LEN, batch_size=BATCH_SIZE):\n",
    "    def preprocess_text(text):\n",
    "        return text[:, :-1], text[:, 1:]\n",
    "\n",
    "    return (\n",
    "        tf.data.Dataset.from_tensor_slices(text_l)\n",
    "        .window(length + 1, shift=5, drop_remainder=True)\n",
    "        .flat_map(lambda window_ds: window_ds.batch(length + 1))\n",
    "        .shuffle(BUFFER_SIZE)\n",
    "        .batch(batch_size)\n",
    "        .map(preprocess_text)\n",
    "        .prefetch(tf.data.AUTOTUNE)\n",
    "    )"
   ]
  },
  {
   "cell_type": "code",
   "execution_count": 6,
   "metadata": {},
   "outputs": [],
   "source": [
    "# Разделение данных на обучающие и валидационные\n",
    "split_idx = len(text_list) * 3 // 4\n",
    "enc_train = vectorize_layer(\" \".join(text_list[:split_idx]))\n",
    "enc_valid = vectorize_layer(\" \".join(text_list[split_idx:]))\n",
    "\n",
    "# Создание датасетов\n",
    "dataset_train = preprocess(enc_train)\n",
    "dataset_valid = preprocess(enc_valid)"
   ]
  },
  {
   "cell_type": "code",
   "execution_count": 7,
   "metadata": {},
   "outputs": [
    {
     "data": {
      "text/html": [
       "<pre style=\"white-space:pre;overflow-x:auto;line-height:normal;font-family:Menlo,'DejaVu Sans Mono',consolas,'Courier New',monospace\"><span style=\"font-weight: bold\">Model: \"sequential\"</span>\n",
       "</pre>\n"
      ],
      "text/plain": [
       "\u001b[1mModel: \"sequential\"\u001b[0m\n"
      ]
     },
     "metadata": {},
     "output_type": "display_data"
    },
    {
     "data": {
      "text/html": [
       "<pre style=\"white-space:pre;overflow-x:auto;line-height:normal;font-family:Menlo,'DejaVu Sans Mono',consolas,'Courier New',monospace\">┏━━━━━━━━━━━━━━━━━━━━━━━━━━━━━━━━━┳━━━━━━━━━━━━━━━━━━━━━━━━┳━━━━━━━━━━━━━━━┓\n",
       "┃<span style=\"font-weight: bold\"> Layer (type)                    </span>┃<span style=\"font-weight: bold\"> Output Shape           </span>┃<span style=\"font-weight: bold\">       Param # </span>┃\n",
       "┡━━━━━━━━━━━━━━━━━━━━━━━━━━━━━━━━━╇━━━━━━━━━━━━━━━━━━━━━━━━╇━━━━━━━━━━━━━━━┩\n",
       "│ embedding (<span style=\"color: #0087ff; text-decoration-color: #0087ff\">Embedding</span>)           │ ?                      │   <span style=\"color: #00af00; text-decoration-color: #00af00\">0</span> (unbuilt) │\n",
       "├─────────────────────────────────┼────────────────────────┼───────────────┤\n",
       "│ gru (<span style=\"color: #0087ff; text-decoration-color: #0087ff\">GRU</span>)                       │ ?                      │   <span style=\"color: #00af00; text-decoration-color: #00af00\">0</span> (unbuilt) │\n",
       "├─────────────────────────────────┼────────────────────────┼───────────────┤\n",
       "│ dense (<span style=\"color: #0087ff; text-decoration-color: #0087ff\">Dense</span>)                   │ ?                      │   <span style=\"color: #00af00; text-decoration-color: #00af00\">0</span> (unbuilt) │\n",
       "└─────────────────────────────────┴────────────────────────┴───────────────┘\n",
       "</pre>\n"
      ],
      "text/plain": [
       "┏━━━━━━━━━━━━━━━━━━━━━━━━━━━━━━━━━┳━━━━━━━━━━━━━━━━━━━━━━━━┳━━━━━━━━━━━━━━━┓\n",
       "┃\u001b[1m \u001b[0m\u001b[1mLayer (type)                   \u001b[0m\u001b[1m \u001b[0m┃\u001b[1m \u001b[0m\u001b[1mOutput Shape          \u001b[0m\u001b[1m \u001b[0m┃\u001b[1m \u001b[0m\u001b[1m      Param #\u001b[0m\u001b[1m \u001b[0m┃\n",
       "┡━━━━━━━━━━━━━━━━━━━━━━━━━━━━━━━━━╇━━━━━━━━━━━━━━━━━━━━━━━━╇━━━━━━━━━━━━━━━┩\n",
       "│ embedding (\u001b[38;5;33mEmbedding\u001b[0m)           │ ?                      │   \u001b[38;5;34m0\u001b[0m (unbuilt) │\n",
       "├─────────────────────────────────┼────────────────────────┼───────────────┤\n",
       "│ gru (\u001b[38;5;33mGRU\u001b[0m)                       │ ?                      │   \u001b[38;5;34m0\u001b[0m (unbuilt) │\n",
       "├─────────────────────────────────┼────────────────────────┼───────────────┤\n",
       "│ dense (\u001b[38;5;33mDense\u001b[0m)                   │ ?                      │   \u001b[38;5;34m0\u001b[0m (unbuilt) │\n",
       "└─────────────────────────────────┴────────────────────────┴───────────────┘\n"
      ]
     },
     "metadata": {},
     "output_type": "display_data"
    },
    {
     "data": {
      "text/html": [
       "<pre style=\"white-space:pre;overflow-x:auto;line-height:normal;font-family:Menlo,'DejaVu Sans Mono',consolas,'Courier New',monospace\"><span style=\"font-weight: bold\"> Total params: </span><span style=\"color: #00af00; text-decoration-color: #00af00\">0</span> (0.00 B)\n",
       "</pre>\n"
      ],
      "text/plain": [
       "\u001b[1m Total params: \u001b[0m\u001b[38;5;34m0\u001b[0m (0.00 B)\n"
      ]
     },
     "metadata": {},
     "output_type": "display_data"
    },
    {
     "data": {
      "text/html": [
       "<pre style=\"white-space:pre;overflow-x:auto;line-height:normal;font-family:Menlo,'DejaVu Sans Mono',consolas,'Courier New',monospace\"><span style=\"font-weight: bold\"> Trainable params: </span><span style=\"color: #00af00; text-decoration-color: #00af00\">0</span> (0.00 B)\n",
       "</pre>\n"
      ],
      "text/plain": [
       "\u001b[1m Trainable params: \u001b[0m\u001b[38;5;34m0\u001b[0m (0.00 B)\n"
      ]
     },
     "metadata": {},
     "output_type": "display_data"
    },
    {
     "data": {
      "text/html": [
       "<pre style=\"white-space:pre;overflow-x:auto;line-height:normal;font-family:Menlo,'DejaVu Sans Mono',consolas,'Courier New',monospace\"><span style=\"font-weight: bold\"> Non-trainable params: </span><span style=\"color: #00af00; text-decoration-color: #00af00\">0</span> (0.00 B)\n",
       "</pre>\n"
      ],
      "text/plain": [
       "\u001b[1m Non-trainable params: \u001b[0m\u001b[38;5;34m0\u001b[0m (0.00 B)\n"
      ]
     },
     "metadata": {},
     "output_type": "display_data"
    }
   ],
   "source": [
    "# Построение модели\n",
    "model = tf.keras.Sequential([\n",
    "    layers.Embedding(input_dim=len(vocab), output_dim=32),  # Увеличение размерности эмбеддинга\n",
    "    layers.GRU(256, return_sequences=True),  # Увеличение размера GRU слоя для улучшения обучения\n",
    "    layers.Dense(len(vocab), activation=\"softmax\")\n",
    "])\n",
    "\n",
    "# Вывод структуры модели\n",
    "model.summary()\n",
    "\n",
    "# Компиляция модели\n",
    "model.compile(optimizer='nadam', loss=\"sparse_categorical_crossentropy\", metrics=[\"accuracy\"])"
   ]
  },
  {
   "cell_type": "code",
   "execution_count": 8,
   "metadata": {},
   "outputs": [],
   "source": [
    "# Настройка сохранения весов во время обучения\n",
    "checkpoint_dir = './training_checkpoints'\n",
    "checkpoint_callback = tf.keras.callbacks.ModelCheckpoint(\n",
    "    filepath=os.path.join(checkpoint_dir, \"checkpoint{epoch}.weights.h5\"),\n",
    "    save_weights_only=True\n",
    ")"
   ]
  },
  {
   "cell_type": "code",
   "execution_count": 9,
   "metadata": {},
   "outputs": [
    {
     "name": "stdout",
     "output_type": "stream",
     "text": [
      "Epoch 1/5\n",
      "     58/Unknown \u001b[1m72s\u001b[0m 1s/step - accuracy: 0.0400 - loss: 6.8938"
     ]
    },
    {
     "name": "stderr",
     "output_type": "stream",
     "text": [
      "c:\\Users\\YasperMoglot\\Desktop\\Ycheba\\4course\\4-course-ai\\.venv\\Lib\\site-packages\\keras\\src\\trainers\\epoch_iterator.py:151: UserWarning: Your input ran out of data; interrupting training. Make sure that your dataset or generator can generate at least `steps_per_epoch * epochs` batches. You may need to use the `.repeat()` function when building your dataset.\n",
      "  self._interrupted_warning()\n"
     ]
    },
    {
     "name": "stdout",
     "output_type": "stream",
     "text": [
      "\u001b[1m58/58\u001b[0m \u001b[32m━━━━━━━━━━━━━━━━━━━━\u001b[0m\u001b[37m\u001b[0m \u001b[1m80s\u001b[0m 1s/step - accuracy: 0.0402 - loss: 6.8860 - val_accuracy: 0.0842 - val_loss: 6.7273\n",
      "Epoch 2/5\n",
      "\u001b[1m58/58\u001b[0m \u001b[32m━━━━━━━━━━━━━━━━━━━━\u001b[0m\u001b[37m\u001b[0m \u001b[1m60s\u001b[0m 1s/step - accuracy: 0.0514 - loss: 6.2477 - val_accuracy: 0.0842 - val_loss: 6.7803\n",
      "Epoch 3/5\n",
      "\u001b[1m58/58\u001b[0m \u001b[32m━━━━━━━━━━━━━━━━━━━━\u001b[0m\u001b[37m\u001b[0m \u001b[1m65s\u001b[0m 1s/step - accuracy: 0.0532 - loss: 6.2288 - val_accuracy: 0.0827 - val_loss: 6.7598\n",
      "Epoch 4/5\n",
      "\u001b[1m58/58\u001b[0m \u001b[32m━━━━━━━━━━━━━━━━━━━━\u001b[0m\u001b[37m\u001b[0m \u001b[1m67s\u001b[0m 1s/step - accuracy: 0.0673 - loss: 6.1223 - val_accuracy: 0.0909 - val_loss: 6.6623\n",
      "Epoch 5/5\n",
      "\u001b[1m58/58\u001b[0m \u001b[32m━━━━━━━━━━━━━━━━━━━━\u001b[0m\u001b[37m\u001b[0m \u001b[1m74s\u001b[0m 1s/step - accuracy: 0.0777 - loss: 5.9093 - val_accuracy: 0.0967 - val_loss: 6.4423\n"
     ]
    }
   ],
   "source": [
    "# Обучение модели\n",
    "history = model.fit(\n",
    "    dataset_train,\n",
    "    epochs=5,\n",
    "    validation_data=dataset_valid,\n",
    "    callbacks=[checkpoint_callback]\n",
    ")"
   ]
  },
  {
   "cell_type": "code",
   "execution_count": 10,
   "metadata": {},
   "outputs": [
    {
     "name": "stdout",
     "output_type": "stream",
     "text": [
      "Сгенерированный текст: Alice was trying and five venture to say went and doesn’t chimneys thoughtfully else no looking at last said the less what\n"
     ]
    }
   ],
   "source": [
    "# Генерация текста\n",
    "# Функция предсказания следующего слова\n",
    "def next_word(text, temperature=1):\n",
    "    y_proba = model.predict(vectorize_layer([text]), verbose=0)[0, -1:]\n",
    "    rescaled_logits = tf.math.log(y_proba) / temperature\n",
    "    w_id = tf.random.categorical(rescaled_logits, num_samples=1)[0, 0]\n",
    "    return vocab[w_id.numpy()]\n",
    "\n",
    "# Функция генерации текста заданной длины\n",
    "def extend_text(text, n_words=20, temperature=1):\n",
    "    for _ in range(n_words):\n",
    "        w = next_word(text, temperature)\n",
    "        text += f\" {w}\"\n",
    "    return text\n",
    "\n",
    "# Пример генерации текста\n",
    "start_text = \"Alice was\"\n",
    "generated_text = extend_text(start_text, n_words=20)\n",
    "print(f\"Сгенерированный текст: {generated_text}\")"
   ]
  }
 ],
 "metadata": {
  "kernelspec": {
   "display_name": "Python 3.11.0 ('.venv': venv)",
   "language": "python",
   "name": "python3"
  },
  "language_info": {
   "codemirror_mode": {
    "name": "ipython",
    "version": 3
   },
   "file_extension": ".py",
   "mimetype": "text/x-python",
   "name": "python",
   "nbconvert_exporter": "python",
   "pygments_lexer": "ipython3",
   "version": "3.11.0"
  },
  "vscode": {
   "interpreter": {
    "hash": "a9b867dbe4f74a3c310d312d601a422bed48f97f5d75ec907629301bcac84c11"
   }
  }
 },
 "nbformat": 4,
 "nbformat_minor": 2
}
